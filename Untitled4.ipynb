{
  "nbformat": 4,
  "nbformat_minor": 0,
  "metadata": {
    "colab": {
      "provenance": [],
      "authorship_tag": "ABX9TyMUpewX1nhknVcK6vAGc9BT",
      "include_colab_link": true
    },
    "kernelspec": {
      "name": "python3",
      "display_name": "Python 3"
    },
    "language_info": {
      "name": "python"
    }
  },
  "cells": [
    {
      "cell_type": "markdown",
      "metadata": {
        "id": "view-in-github",
        "colab_type": "text"
      },
      "source": [
        "<a href=\"https://colab.research.google.com/github/Arpitapal30/cheat_sheet_of_pandas/blob/main/Untitled4.ipynb\" target=\"_parent\"><img src=\"https://colab.research.google.com/assets/colab-badge.svg\" alt=\"Open In Colab\"/></a>"
      ]
    },
    {
      "cell_type": "markdown",
      "source": [
        "# 1. Importing Pandas"
      ],
      "metadata": {
        "id": "zVCEnmBQSIUT"
      }
    },
    {
      "cell_type": "code",
      "execution_count": null,
      "metadata": {
        "id": "L7QB1FphSDZy"
      },
      "outputs": [],
      "source": [
        "import pandas as pd\n"
      ]
    },
    {
      "cell_type": "markdown",
      "source": [
        "# 2. Creating Data\n",
        "- Create a Series\n",
        "- Create a DataFrame\n",
        "- Read Data\n",
        "- Write Data\n"
      ],
      "metadata": {
        "id": "u31HHI7SSQwf"
      }
    },
    {
      "cell_type": "code",
      "source": [
        "# Create a Series\n",
        "data = pd.Series([1, 2, 3, 4], name=\"numbers\")\n"
      ],
      "metadata": {
        "id": "5U_ZHOkuSGJc"
      },
      "execution_count": null,
      "outputs": []
    },
    {
      "cell_type": "code",
      "source": [
        "#Create a DataFrame\n",
        "data = pd.DataFrame({\n",
        "    \"Name\": [\"Alice\", \"Bob\", \"Charlie\"],\n",
        "    \"Age\": [25, 30, 35],\n",
        "    \"City\": [\"New York\", \"San Francisco\", \"Los Angeles\"]\n",
        "})\n"
      ],
      "metadata": {
        "id": "dzaDDmjSSGLm"
      },
      "execution_count": null,
      "outputs": []
    },
    {
      "cell_type": "code",
      "source": [
        "#Read Data\n",
        "df = pd.read_csv(\"file.csv\")         # From a CSV file\n",
        "df = pd.read_excel(\"file.xlsx\")      # From an Excel file\n",
        "df = pd.read_json(\"file.json\")       # From a JSON file\n"
      ],
      "metadata": {
        "id": "m1SLkxm5SGQc"
      },
      "execution_count": null,
      "outputs": []
    },
    {
      "cell_type": "code",
      "source": [
        "# Write Data\n",
        "df.to_csv(\"file.csv\", index=False)   # Write to a CSV file\n",
        "df.to_excel(\"file.xlsx\", index=False) # Write to an Excel file\n",
        "df.to_json(\"file.json\", orient=\"records\") # Write to a JSON file\n"
      ],
      "metadata": {
        "id": "7pDkjGWqSGSV"
      },
      "execution_count": null,
      "outputs": []
    },
    {
      "cell_type": "markdown",
      "source": [
        "# 3. Viewing Data"
      ],
      "metadata": {
        "id": "WquxHgoYTRvV"
      }
    },
    {
      "cell_type": "code",
      "source": [
        "df.head(n)        # First n rows (default 5)\n",
        "df.tail(n)        # Last n rows (default 5)\n",
        "df.info()         # Summary of DataFrame\n",
        "df.describe()     # Descriptive stats (numerical columns)\n",
        "df.shape          # Rows and columns\n",
        "df.columns        # Column names\n",
        "df.index          # Index labels\n"
      ],
      "metadata": {
        "id": "i_MwUcpESGW6"
      },
      "execution_count": null,
      "outputs": []
    },
    {
      "cell_type": "markdown",
      "source": [
        "# 4. Selecting Data\n",
        "- Select Columns\n",
        "- Select Rows\n",
        "- Filter Rows"
      ],
      "metadata": {
        "id": "afEvlZp7TazH"
      }
    },
    {
      "cell_type": "code",
      "source": [
        "#Select Columns\n",
        "df[\"column_name\"]          # Single column\n",
        "df[[\"col1\", \"col2\"]]       # Multiple columns\n"
      ],
      "metadata": {
        "id": "svnGcaMlSGY_"
      },
      "execution_count": null,
      "outputs": []
    },
    {
      "cell_type": "code",
      "source": [
        "# Select Rows\n",
        "df.iloc[0]                 # First row by position\n",
        "df.loc[0]                  # First row by index label\n",
        "df.loc[0:2, \"col1\"]        # Range of rows and specific column\n"
      ],
      "metadata": {
        "id": "in7yQAqISGcg"
      },
      "execution_count": null,
      "outputs": []
    },
    {
      "cell_type": "code",
      "source": [
        "# Filter Rows\n",
        "df[df[\"Age\"] > 30]         # Rows where Age > 30\n",
        "df[df[\"City\"] == \"New York\"]  # Rows where City = \"New York\"\n"
      ],
      "metadata": {
        "id": "t7rbkIbTSGeo"
      },
      "execution_count": null,
      "outputs": []
    },
    {
      "cell_type": "markdown",
      "source": [
        "# 5. Adding/Modifying Columns"
      ],
      "metadata": {
        "id": "GBPXMwFGUSwt"
      }
    },
    {
      "cell_type": "code",
      "source": [
        "df[\"New_Column\"] = df[\"Age\"] * 2           # Create or modify a column\n",
        "df[\"Category\"] = df[\"Age\"].apply(lambda x: \"Adult\" if x > 18 else \"Minor\")\n"
      ],
      "metadata": {
        "id": "ShzNRQrKSGhl"
      },
      "execution_count": null,
      "outputs": []
    },
    {
      "cell_type": "markdown",
      "source": [
        "# 6. Dropping Data"
      ],
      "metadata": {
        "id": "26-x1kmFihE5"
      }
    },
    {
      "cell_type": "code",
      "source": [
        "df.drop(\"column_name\", axis=1, inplace=True)  # Drop column\n",
        "df.drop([0, 1], axis=0, inplace=True)         # Drop rows\n"
      ],
      "metadata": {
        "id": "72WrHKyGSGki"
      },
      "execution_count": null,
      "outputs": []
    },
    {
      "cell_type": "markdown",
      "source": [
        "# 7. Sorting"
      ],
      "metadata": {
        "id": "fZnB3GoAiuPr"
      }
    },
    {
      "cell_type": "code",
      "source": [
        "df.sort_values(by=\"Age\", ascending=True, inplace=True)  # Sort by column\n",
        "df.sort_index(ascending=False, inplace=True)            # Sort by index\n"
      ],
      "metadata": {
        "id": "RPyDf4AgSGm0"
      },
      "execution_count": null,
      "outputs": []
    },
    {
      "cell_type": "markdown",
      "source": [
        "# 8. Aggregations\n",
        "\n"
      ],
      "metadata": {
        "id": "8eC--Za6i2KB"
      }
    },
    {
      "cell_type": "code",
      "source": [
        "df[\"Age\"].mean()     # Mean of Age\n",
        "df[\"Age\"].sum()      # Sum of Age\n",
        "df[\"Age\"].max()      # Maximum Age\n",
        "df[\"Age\"].min()      # Minimum Age\n",
        "df.groupby(\"City\").mean()  # Group by City and calculate mean\n"
      ],
      "metadata": {
        "id": "mDaxanSVSGpQ"
      },
      "execution_count": null,
      "outputs": []
    },
    {
      "cell_type": "markdown",
      "source": [
        "# 9. Handling Missing Data"
      ],
      "metadata": {
        "id": "pmeK8brfi_Og"
      }
    },
    {
      "cell_type": "code",
      "source": [
        "df.isnull().sum()        # Check missing values\n",
        "df.dropna(inplace=True)  # Drop rows with missing values\n",
        "df.fillna(0, inplace=True)  # Fill missing values with 0\n"
      ],
      "metadata": {
        "id": "XjaU8wMwSGr0"
      },
      "execution_count": null,
      "outputs": []
    },
    {
      "cell_type": "markdown",
      "source": [
        "# 10. Merging/Joining DataFrames\n",
        "- Concatenate\n",
        "- Merge\n"
      ],
      "metadata": {
        "id": "um9hB5h-jI78"
      }
    },
    {
      "cell_type": "code",
      "source": [
        "#Concatenate\n",
        "result = pd.concat([df1, df2], axis=0)  # Vertical concat (rows)\n",
        "result = pd.concat([df1, df2], axis=1)  # Horizontal concat (columns)\n"
      ],
      "metadata": {
        "id": "LSjoP_jLSGt3"
      },
      "execution_count": null,
      "outputs": []
    },
    {
      "cell_type": "code",
      "source": [
        "# Merge\n",
        "result = pd.merge(df1, df2, on=\"key\", how=\"inner\")  # Join on \"key\" column"
      ],
      "metadata": {
        "id": "D6gIleezSGy_"
      },
      "execution_count": null,
      "outputs": []
    },
    {
      "cell_type": "markdown",
      "source": [
        "# 11. Pivot Table"
      ],
      "metadata": {
        "id": "KV1U_Lv8jmVs"
      }
    },
    {
      "cell_type": "code",
      "source": [
        "df.pivot_table(values=\"Age\", index=\"City\", columns=\"Gender\", aggfunc=\"mean\")\n"
      ],
      "metadata": {
        "id": "tYUfaNVESG1-"
      },
      "execution_count": null,
      "outputs": []
    },
    {
      "cell_type": "markdown",
      "source": [
        "# 12. Exporting Data"
      ],
      "metadata": {
        "id": "n68MogkbjtB_"
      }
    },
    {
      "cell_type": "code",
      "source": [
        "df.to_csv(\"output.csv\", index=False)   # Export to CSV\n",
        "df.to_excel(\"output.xlsx\", index=False) # Export to Excel\n",
        "df.to_json(\"output.json\", orient=\"records\") # Export to JSON\n"
      ],
      "metadata": {
        "id": "DSGpDHPNSG4C"
      },
      "execution_count": null,
      "outputs": []
    },
    {
      "cell_type": "markdown",
      "source": [
        "# 13. Other Useful Functions\n"
      ],
      "metadata": {
        "id": "j3IvhKwLj2Qe"
      }
    },
    {
      "cell_type": "code",
      "source": [
        "df.sample(n=5)        # Random sample of rows\n",
        "df.nunique()          # Number of unique values per column\n",
        "df.duplicated()       # Check for duplicate rows\n",
        "df.corr()             # Correlation between columns\n",
        "df.memory_usage()     # Memory usage of DataFrame\n"
      ],
      "metadata": {
        "id": "J1mIkSCaSG7O"
      },
      "execution_count": null,
      "outputs": []
    },
    {
      "cell_type": "code",
      "source": [],
      "metadata": {
        "id": "emXSex35SG9T"
      },
      "execution_count": null,
      "outputs": []
    },
    {
      "cell_type": "code",
      "source": [],
      "metadata": {
        "id": "ySV2lAqRSHAW"
      },
      "execution_count": null,
      "outputs": []
    },
    {
      "cell_type": "code",
      "source": [],
      "metadata": {
        "id": "mEpqQ4HASHCa"
      },
      "execution_count": null,
      "outputs": []
    },
    {
      "cell_type": "code",
      "source": [],
      "metadata": {
        "id": "83-nCUBISHFm"
      },
      "execution_count": null,
      "outputs": []
    },
    {
      "cell_type": "code",
      "source": [],
      "metadata": {
        "id": "C0oV_W0LSHHo"
      },
      "execution_count": null,
      "outputs": []
    },
    {
      "cell_type": "code",
      "source": [],
      "metadata": {
        "id": "78I2FK2HSHKt"
      },
      "execution_count": null,
      "outputs": []
    },
    {
      "cell_type": "code",
      "source": [],
      "metadata": {
        "id": "Tz2nx7E3SHMq"
      },
      "execution_count": null,
      "outputs": []
    }
  ]
}